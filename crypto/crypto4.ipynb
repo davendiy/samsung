{
 "cells": [
  {
   "cell_type": "code",
   "execution_count": 70,
   "metadata": {
    "collapsed": true
   },
   "outputs": [],
   "source": [
    "from collections import Counter\n",
    "\n",
    "file = open('/files/univer/samsung/crypto/encrypted1.txt', 'rb')\n",
    "ciphertext = file.read()\n",
    "file.close()\n",
    "n = len(ciphertext)\n",
    "\n",
    "\n",
    "def decrypt(iter, key):\n",
    "    res = []\n",
    "    n1 = len(iter)\n",
    "    n2 = len(key)\n",
    "    xkey = key * ((n1 // n2) + 1)\n",
    "    for el, tmp_key in zip(iter, xkey):\n",
    "        res.append((el ^ tmp_key))\n",
    "    return res\n",
    "\n",
    "\n",
    "def index_sames(iter):\n",
    "    tmp_n = len(iter)\n",
    "    counter = Counter(iter)\n",
    "    return sum([val * (val - 1) / (tmp_n * (tmp_n - 1)) for val in counter.values()])\n"
   ]
  },
  {
   "cell_type": "code",
   "execution_count": 68,
   "metadata": {},
   "outputs": [
    {
     "name": "stdout",
     "output_type": "stream",
     "text": [
      "b'xorkeyxorkey'\n"
     ]
    }
   ],
   "source": [
    "tmp = []\n",
    "# for i in range(0, n, 6):\n",
    "#     tmp.append(ciphertext[i])\n",
    "# Counter(tmp).most_common()\n",
    "# \n",
    "# for i, el in enumerate(tmp):\n",
    "#     if el == 88:\n",
    "#         tmp[i] = 69\n",
    "\n",
    "key = []\n",
    "for j in range(12):\n",
    "    tmp = ciphertext[j::12]\n",
    "    max_el = Counter(tmp).most_common(4)[0][0]\n",
    "    key.append((ord(' ') ^ max_el) % 256)\n",
    "print(bytes(key))"
   ]
  },
  {
   "cell_type": "code",
   "execution_count": 73,
   "metadata": {},
   "outputs": [],
   "source": [
    "bytes(decrypt(ciphertext, key))\n",
    "with open('/files/univer/samsung/crypto/output.txt', 'wb') as file:\n",
    "    file.write(bytes(decrypt(ciphertext, key)))\n"
   ]
  }
 ],
 "metadata": {
  "kernelspec": {
   "display_name": "Python 2",
   "language": "python",
   "name": "python2"
  },
  "language_info": {
   "codemirror_mode": {
    "name": "ipython",
    "version": 2
   },
   "file_extension": ".py",
   "mimetype": "text/x-python",
   "name": "python",
   "nbconvert_exporter": "python",
   "pygments_lexer": "ipython2",
   "version": "2.7.6"
  }
 },
 "nbformat": 4,
 "nbformat_minor": 0
}
